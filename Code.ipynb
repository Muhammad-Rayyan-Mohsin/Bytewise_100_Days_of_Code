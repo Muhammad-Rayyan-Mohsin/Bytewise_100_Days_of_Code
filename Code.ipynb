{
 "cells": [
  {
   "cell_type": "code",
   "execution_count": 1,
   "id": "dcc94623-234b-41a0-b967-03a910f51132",
   "metadata": {},
   "outputs": [],
   "source": [
    "import pandas as pd\n",
    "import numpy as np"
   ]
  },
  {
   "cell_type": "markdown",
   "id": "6842f998-58b1-4b99-aeae-7d51e89431f9",
   "metadata": {},
   "source": [
    "A) What is the most commonly awarded gender and birth country?\n"
   ]
  },
  {
   "cell_type": "code",
   "execution_count": 2,
   "id": "1ce2f7f8-43b1-457f-a124-10825746108d",
   "metadata": {},
   "outputs": [
    {
     "name": "stdout",
     "output_type": "stream",
     "text": [
      "Top Gender: Male\n",
      "Top Birth Country: United States of America\n"
     ]
    }
   ],
   "source": [
    "# Load the data\n",
    "df = pd.read_csv('nobel.csv')\n",
    "\n",
    "# Top gender and birth country\n",
    "x = df['sex'].describe().top\n",
    "y = df['birth_country'].describe().top\n",
    "\n",
    "print(\"Top Gender:\", x)\n",
    "print(\"Top Birth Country:\", y)"
   ]
  },
  {
   "cell_type": "markdown",
   "id": "80f07931-df43-4dea-b7be-bddd7b0cf5c4",
   "metadata": {},
   "source": [
    "__________________________________________________________________________________________________________________________________________________________________"
   ]
  },
  {
   "cell_type": "markdown",
   "id": "3f521411-b99a-4771-a948-2e3e9e392878",
   "metadata": {},
   "source": [
    "B) Which decade had the highest ratio of US-born Nobel Prize winners to total winners in all categories?"
   ]
  },
  {
   "cell_type": "code",
   "execution_count": 3,
   "id": "35617e94-416f-4d6d-8671-3dd4a0de4865",
   "metadata": {},
   "outputs": [
    {
     "name": "stdout",
     "output_type": "stream",
     "text": [
      "    decade  usa_born_winner\n",
      "0     1900         0.017544\n",
      "1     1910         0.075000\n",
      "2     1920         0.074074\n",
      "3     1930         0.250000\n",
      "4     1940         0.302326\n",
      "5     1950         0.291667\n",
      "6     1960         0.265823\n",
      "7     1970         0.317308\n",
      "8     1980         0.319588\n",
      "9     1990         0.403846\n",
      "10    2000         0.422764\n",
      "11    2010         0.314050\n",
      "12    2020         0.360000\n",
      "Max Decade USA: 2000\n"
     ]
    }
   ],
   "source": [
    "# decade column\n",
    "df['decade'] = (np.floor(df['year'] / 10) * 10).astype(int)\n",
    "\n",
    "df['usa_born_winner'] = df['birth_country'] == 'United States of America'\n",
    "\n",
    "df2 = df.groupby('decade', as_index=False)['usa_born_winner'].mean()\n",
    "print(df2)\n",
    "\n",
    "max_decade_usa = int(df2.loc[df2['usa_born_winner'].idxmax()]['decade'])\n",
    "print(\"Max Decade USA:\", max_decade_usa)\n"
   ]
  },
  {
   "cell_type": "markdown",
   "id": "93d29548-91f6-4ba3-b59b-6cd9994927b6",
   "metadata": {},
   "source": [
    "__________________________________________________________________________________________________________________________________________________________________"
   ]
  },
  {
   "cell_type": "markdown",
   "id": "5c6e25c5-1815-45ee-865d-0f7712d685a1",
   "metadata": {},
   "source": [
    "C) Which decade and Nobel Prize category combination had the highest proportion of female laureates?"
   ]
  },
  {
   "cell_type": "code",
   "execution_count": 8,
   "id": "f04f458c-d67e-40af-a96a-5bb99b871d3c",
   "metadata": {},
   "outputs": [
    {
     "name": "stdout",
     "output_type": "stream",
     "text": [
      "Max Female Dict: {2020: 'Literature'}\n"
     ]
    }
   ],
   "source": [
    "# Calculate the total and female laureates per decade and category\n",
    "total_by_decade_category = df.groupby(['decade', 'category']).size()\n",
    "female_by_decade_category = df[df['sex'] == 'Female'].groupby(['decade', 'category']).size()\n",
    "\n",
    "# Calculate the proportion of female laureates\n",
    "proportion_female = (female_by_decade_category / total_by_decade_category).reset_index(name='proportion_female')\n",
    "\n",
    "# Find the combination with the highest proportion of female laureates\n",
    "max_female_row = proportion_female.loc[proportion_female['proportion_female'].idxmax()]\n",
    "max_female_dict = {int(max_female_row['decade']): max_female_row['category']}\n",
    "print(\"Max Female Dict:\", max_female_dict)\n"
   ]
  },
  {
   "cell_type": "markdown",
   "id": "37b4197a-c071-4ad6-b247-ca19dc904983",
   "metadata": {},
   "source": [
    "__________________________________________________________________________________________________________________________________________________________________"
   ]
  },
  {
   "cell_type": "markdown",
   "id": "22f1cea8-1e50-4ba2-88bb-bc9eb676f307",
   "metadata": {},
   "source": [
    "D) Who was the first woman to receive a Nobel Prize, and in what category?"
   ]
  },
  {
   "cell_type": "code",
   "execution_count": 9,
   "id": "b5a03ba1-243d-4e78-8f0f-f1d91a49308d",
   "metadata": {},
   "outputs": [
    {
     "name": "stdout",
     "output_type": "stream",
     "text": [
      "First Woman Name: Marie Curie, née Sklodowska\n",
      "First Woman Category: Physics\n"
     ]
    }
   ],
   "source": [
    "# Filter female laureates and sort by year\n",
    "female_laureates = df[df['sex'] == 'Female'].sort_values(by='year')\n",
    "\n",
    "# Identify the first female laureate\n",
    "first_female_laureate = female_laureates.iloc[0]\n",
    "first_woman_name = first_female_laureate['full_name']\n",
    "first_woman_category = first_female_laureate['category']\n",
    "\n",
    "print(\"First Woman Name:\", first_woman_name)\n",
    "print(\"First Woman Category:\", first_woman_category)"
   ]
  },
  {
   "cell_type": "markdown",
   "id": "74a6646a-6221-483b-b817-b23c2dd81e6b",
   "metadata": {},
   "source": [
    "__________________________________________________________________________________________________________________________________________________________________"
   ]
  },
  {
   "cell_type": "markdown",
   "id": "7a678ca7-c87a-46a9-b859-2b419580924e",
   "metadata": {},
   "source": [
    "E) Which individuals or organizations have won more than one Nobel Prize throughout the years?"
   ]
  },
  {
   "cell_type": "code",
   "execution_count": 6,
   "id": "f8ad4736-6b1c-4547-9f00-0c2e518f3300",
   "metadata": {},
   "outputs": [
    {
     "name": "stdout",
     "output_type": "stream",
     "text": [
      "Repeat Winners: ['Comité international de la Croix Rouge (International Committee of the Red Cross)', 'Linus Carl Pauling', 'John Bardeen', 'Frederick Sanger', 'Marie Curie, née Sklodowska', 'Office of the United Nations High Commissioner for Refugees (UNHCR)']\n"
     ]
    }
   ],
   "source": [
    "# Identify repeat winners\n",
    "repeat_winners = df['full_name'].value_counts()\n",
    "repeat_list = repeat_winners[repeat_winners > 1].index.tolist()\n",
    "\n",
    "print(\"Repeat Winners:\", repeat_list)"
   ]
  },
  {
   "cell_type": "markdown",
   "id": "f8e6a1ac-8cdf-4213-8878-d238475757ce",
   "metadata": {},
   "source": [
    "__________________________________________________________________________________________________________________________________________________________________"
   ]
  }
 ],
 "metadata": {
  "kernelspec": {
   "display_name": "Python 3 (ipykernel)",
   "language": "python",
   "name": "python3"
  },
  "language_info": {
   "codemirror_mode": {
    "name": "ipython",
    "version": 3
   },
   "file_extension": ".py",
   "mimetype": "text/x-python",
   "name": "python",
   "nbconvert_exporter": "python",
   "pygments_lexer": "ipython3",
   "version": "3.11.5"
  }
 },
 "nbformat": 4,
 "nbformat_minor": 5
}
