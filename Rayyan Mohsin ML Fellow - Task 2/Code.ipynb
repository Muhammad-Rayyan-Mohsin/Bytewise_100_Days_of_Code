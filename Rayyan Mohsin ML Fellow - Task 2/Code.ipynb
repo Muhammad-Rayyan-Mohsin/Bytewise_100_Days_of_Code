{
 "cells": [
  {
   "cell_type": "markdown",
   "id": "7ec3ba1a-aa04-4c0d-979a-e843657d581b",
   "metadata": {},
   "source": [
    "TASK 2 - Dataset manipulation using Pandas"
   ]
  },
  {
   "cell_type": "markdown",
   "id": "ca8476b1-6861-4aa8-9137-e235d1b5f24e",
   "metadata": {},
   "source": [
    "A) Which NYC schools have the best math results? \n",
    "\n",
    "The best math results are at least 80% of the *maximum possible score of 800* for math.\n",
    "\n",
    "Save your results in a pandas DataFrame called best_math_schools, including \"school_name\" and \"average_math\" columns, sorted by \"average_math\" in descending order."
   ]
  },
  {
   "cell_type": "code",
   "execution_count": 19,
   "id": "4f6d9ae8-b6a7-4f11-8f40-b3e604acd02b",
   "metadata": {},
   "outputs": [],
   "source": [
    "import pandas as pd\n",
    "import numpy as np\n",
    "\n",
    "df = pd.read_csv('schools.csv')"
   ]
  },
  {
   "cell_type": "markdown",
   "id": "6a1bdd71-8d3e-434d-8ae1-fa0edc47addf",
   "metadata": {},
   "source": [
    "To get some basic information about the dataset, we can use the following commands:"
   ]
  },
  {
   "cell_type": "code",
   "execution_count": 20,
   "id": "f4b886cb-aa12-4bd3-9102-c502ec06d6a6",
   "metadata": {},
   "outputs": [
    {
     "name": "stdout",
     "output_type": "stream",
     "text": [
      "Amount of Columns and rows (375, 7)\n",
      "\n",
      "Columns:  Index(['school_name', 'borough', 'building_code', 'average_math',\n",
      "       'average_reading', 'average_writing', 'percent_tested'],\n",
      "      dtype='object')\n",
      "\n",
      "Data type of each column: \n",
      " school_name         object\n",
      "borough             object\n",
      "building_code       object\n",
      "average_math         int64\n",
      "average_reading      int64\n",
      "average_writing      int64\n",
      "percent_tested     float64\n",
      "dtype: object\n",
      "\n",
      "Data description: \n",
      "        average_math  average_reading  average_writing  percent_tested\n",
      "count    375.000000       375.000000       375.000000      355.000000\n",
      "mean     432.944000       424.504000       418.458667       64.976338\n",
      "std       71.952373        61.881069        64.548599       18.747634\n",
      "min      317.000000       302.000000       284.000000       18.500000\n",
      "25%      386.000000       386.000000       382.000000       50.950000\n",
      "50%      415.000000       413.000000       403.000000       64.800000\n",
      "75%      458.500000       445.000000       437.500000       79.600000\n",
      "max      754.000000       697.000000       693.000000      100.000000\n",
      "\n",
      "<class 'pandas.core.frame.DataFrame'>\n",
      "RangeIndex: 375 entries, 0 to 374\n",
      "Data columns (total 7 columns):\n",
      " #   Column           Non-Null Count  Dtype  \n",
      "---  ------           --------------  -----  \n",
      " 0   school_name      375 non-null    object \n",
      " 1   borough          375 non-null    object \n",
      " 2   building_code    375 non-null    object \n",
      " 3   average_math     375 non-null    int64  \n",
      " 4   average_reading  375 non-null    int64  \n",
      " 5   average_writing  375 non-null    int64  \n",
      " 6   percent_tested   355 non-null    float64\n",
      "dtypes: float64(1), int64(3), object(3)\n",
      "memory usage: 20.6+ KB\n",
      "Data info: \n",
      " None\n",
      "\n",
      "Sample print of first 5 rows: \n",
      "                                          school_name    borough building_code  \\\n",
      "0  New Explorations into Science, Technology and ...  Manhattan          M022   \n",
      "1                               Essex Street Academy  Manhattan          M445   \n",
      "2                       Lower Manhattan Arts Academy  Manhattan          M445   \n",
      "3    High School for Dual Language and Asian Studies  Manhattan          M445   \n",
      "4      Henry Street School for International Studies  Manhattan          M056   \n",
      "\n",
      "   average_math  average_reading  average_writing  percent_tested  \n",
      "0           657              601              601             NaN  \n",
      "1           395              411              387            78.9  \n",
      "2           418              428              415            65.1  \n",
      "3           613              453              463            95.9  \n",
      "4           410              406              381            59.7  \n"
     ]
    }
   ],
   "source": [
    "print(\"Amount of Columns and rows\", df.shape)\n",
    "print()\n",
    "print(\"Columns: \",df.columns)\n",
    "print()\n",
    "print(\"Data type of each column: \\n\",df.dtypes)\n",
    "print()\n",
    "print(\"Data description: \\n\",df.describe())\n",
    "print()\n",
    "print(\"Data info: \\n\",df.info())\n",
    "print()\n",
    "print(\"Sample print of first 5 rows: \\n\",df.head(5))"
   ]
  },
  {
   "cell_type": "markdown",
   "id": "124183d8-f3bb-4ab7-ba54-00701ce22224",
   "metadata": {},
   "source": [
    "To verify if the score is indeed under 800, we can use the following commands:"
   ]
  },
  {
   "cell_type": "code",
   "execution_count": 21,
   "id": "41fa6ae7-124f-4880-8633-e08948ef3c56",
   "metadata": {},
   "outputs": [
    {
     "name": "stdout",
     "output_type": "stream",
     "text": [
      "Lowest value:  317\n",
      "Highest value:  754\n"
     ]
    }
   ],
   "source": [
    "print(\"Lowest value: \", df['average_math'].min())\n",
    "print(\"Highest value: \", df['average_math'].max())"
   ]
  },
  {
   "cell_type": "markdown",
   "id": "a1e6bc60-2609-4909-8c3c-eba00e4780f0",
   "metadata": {},
   "source": [
    "To filter the dataset to only show the schools with an average math score of over 80% of 800, we can use the following command:\n"
   ]
  },
  {
   "cell_type": "code",
   "execution_count": 22,
   "id": "eae73895-1436-4060-aeeb-c6636fd3f74a",
   "metadata": {},
   "outputs": [
    {
     "name": "stdout",
     "output_type": "stream",
     "text": [
      "                                           school_name  average_math\n",
      "88                              Stuyvesant High School           754\n",
      "170                       Bronx High School of Science           714\n",
      "93                 Staten Island Technical High School           711\n",
      "365  Queens High School for the Sciences at York Co...           701\n",
      "68   High School for Mathematics, Science, and Engi...           683\n"
     ]
    }
   ],
   "source": [
    "best_math_schools = df[df['average_math'] > 0.8*800]\n",
    "best_math_schools = best_math_schools[['school_name', 'average_math']].sort_values('average_math', ascending=False)\n",
    "print(best_math_schools.head(5))"
   ]
  },
  {
   "cell_type": "markdown",
   "id": "e08319b6-696d-4535-81c2-b344a19da538",
   "metadata": {},
   "source": [
    "20 null values observed in 'percent_tested' column\n"
   ]
  },
  {
   "cell_type": "code",
   "execution_count": 23,
   "id": "de046f05-5e84-4544-996a-2029a87fd38b",
   "metadata": {},
   "outputs": [
    {
     "name": "stdout",
     "output_type": "stream",
     "text": [
      "Null values in percent_tested:  20\n",
      "<class 'pandas.core.frame.DataFrame'>\n",
      "RangeIndex: 375 entries, 0 to 374\n",
      "Data columns (total 7 columns):\n",
      " #   Column           Non-Null Count  Dtype  \n",
      "---  ------           --------------  -----  \n",
      " 0   school_name      375 non-null    object \n",
      " 1   borough          375 non-null    object \n",
      " 2   building_code    375 non-null    object \n",
      " 3   average_math     375 non-null    int64  \n",
      " 4   average_reading  375 non-null    int64  \n",
      " 5   average_writing  375 non-null    int64  \n",
      " 6   percent_tested   375 non-null    float64\n",
      "dtypes: float64(1), int64(3), object(3)\n",
      "memory usage: 20.6+ KB\n",
      "None\n"
     ]
    }
   ],
   "source": [
    "print(\"Null values in percent_tested: \", df['percent_tested'].isnull().sum())\n",
    "#Replacing null values with column mean\n",
    "df['percent_tested'] = df['percent_tested'].fillna(df['percent_tested'].mean())\n",
    "print(df.info())"
   ]
  },
  {
   "cell_type": "markdown",
   "id": "207fade1-c0a2-4910-92c7-8cfff625d367",
   "metadata": {},
   "source": [
    "What are the top 10 performing schools based on the combined SAT scores?\n",
    "\n",
    "Save your results as a pandas DataFrame called top_10_schools containing the \"school_name\" and a new column named \"total_SAT\", with results ordered by \"total_SAT\" in descending order.\r\n"
   ]
  },
  {
   "cell_type": "code",
   "execution_count": 24,
   "id": "8c28133e-09c9-46a7-bb79-e3649427f133",
   "metadata": {},
   "outputs": [
    {
     "name": "stdout",
     "output_type": "stream",
     "text": [
      "                                           school_name  total_SAT\n",
      "88                              Stuyvesant High School       2144\n",
      "170                       Bronx High School of Science       2041\n",
      "93                 Staten Island Technical High School       2041\n",
      "174  High School of American Studies at Lehman College       2013\n",
      "333                        Townsend Harris High School       1981\n",
      "365  Queens High School for the Sciences at York Co...       1947\n",
      "5                       Bard High School Early College       1914\n",
      "280                     Brooklyn Technical High School       1896\n",
      "45                       Eleanor Roosevelt High School       1889\n",
      "68   High School for Mathematics, Science, and Engi...       1889\n"
     ]
    }
   ],
   "source": [
    "df['total_SAT'] = df['average_math'] + df['average_reading'] + df['average_writing']\n",
    "top_10_schools = df[['school_name', 'total_SAT']].sort_values('total_SAT', ascending=False).head(10)\n",
    "print(top_10_schools)"
   ]
  },
  {
   "cell_type": "markdown",
   "id": "ac088dc2-e006-4621-920a-9d86ea2ec658",
   "metadata": {},
   "source": [
    "Which single borough has the largest standard deviation in the combined SAT score?"
   ]
  },
  {
   "cell_type": "code",
   "execution_count": 25,
   "id": "a7c4cece-16de-437b-be22-80c50fbed526",
   "metadata": {},
   "outputs": [
    {
     "data": {
      "text/html": [
       "<div>\n",
       "<style scoped>\n",
       "    .dataframe tbody tr th:only-of-type {\n",
       "        vertical-align: middle;\n",
       "    }\n",
       "\n",
       "    .dataframe tbody tr th {\n",
       "        vertical-align: top;\n",
       "    }\n",
       "\n",
       "    .dataframe thead th {\n",
       "        text-align: right;\n",
       "    }\n",
       "</style>\n",
       "<table border=\"1\" class=\"dataframe\">\n",
       "  <thead>\n",
       "    <tr style=\"text-align: right;\">\n",
       "      <th></th>\n",
       "      <th>count</th>\n",
       "      <th>mean</th>\n",
       "      <th>std</th>\n",
       "    </tr>\n",
       "    <tr>\n",
       "      <th>borough</th>\n",
       "      <th></th>\n",
       "      <th></th>\n",
       "      <th></th>\n",
       "    </tr>\n",
       "  </thead>\n",
       "  <tbody>\n",
       "    <tr>\n",
       "      <th>Manhattan</th>\n",
       "      <td>89</td>\n",
       "      <td>1340.13</td>\n",
       "      <td>230.29</td>\n",
       "    </tr>\n",
       "  </tbody>\n",
       "</table>\n",
       "</div>"
      ],
      "text/plain": [
       "           count     mean     std\n",
       "borough                          \n",
       "Manhattan     89  1340.13  230.29"
      ]
     },
     "execution_count": 25,
     "metadata": {},
     "output_type": "execute_result"
    }
   ],
   "source": [
    "# Which NYC borough has the highest standard deviation for total_SAT?\n",
    "boroughs = df.groupby(\"borough\")[\"total_SAT\"].agg([\"count\", \"mean\", \"std\"]).round(2)\n",
    "# Filter for max std and make borough a column\n",
    "largest_std_dev = boroughs[boroughs[\"std\"] == boroughs[\"std\"].max()]\n",
    "largest_std_dev"
   ]
  }
 ],
 "metadata": {
  "kernelspec": {
   "display_name": "Python 3 (ipykernel)",
   "language": "python",
   "name": "python3"
  },
  "language_info": {
   "codemirror_mode": {
    "name": "ipython",
    "version": 3
   },
   "file_extension": ".py",
   "mimetype": "text/x-python",
   "name": "python",
   "nbconvert_exporter": "python",
   "pygments_lexer": "ipython3",
   "version": "3.11.5"
  }
 },
 "nbformat": 4,
 "nbformat_minor": 5
}
