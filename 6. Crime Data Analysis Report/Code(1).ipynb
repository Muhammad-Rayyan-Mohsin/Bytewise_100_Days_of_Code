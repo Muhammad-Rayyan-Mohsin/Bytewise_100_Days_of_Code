{
  "metadata": {
    "kernelspec": {
      "name": "python",
      "display_name": "Python (Pyodide)",
      "language": "python"
    },
    "language_info": {
      "codemirror_mode": {
        "name": "python",
        "version": 3
      },
      "file_extension": ".py",
      "mimetype": "text/x-python",
      "name": "python",
      "nbconvert_exporter": "python",
      "pygments_lexer": "ipython3",
      "version": "3.8"
    },
    "colab": {
      "provenance": []
    }
  },
  "nbformat_minor": 4,
  "nbformat": 4,
  "cells": [
    {
      "cell_type": "code",
      "source": "import pandas as pd\nimport matplotlib.pyplot as plt",
      "metadata": {
        "id": "TBsZm2HhSy4k",
        "trusted": true
      },
      "outputs": [],
      "execution_count": 1
    },
    {
      "cell_type": "code",
      "source": "df = pd.read_csv(\"DATASET.csv\")",
      "metadata": {
        "id": "2szdVHUkS6Z2",
        "trusted": true
      },
      "outputs": [],
      "execution_count": 3
    },
    {
      "cell_type": "code",
      "source": "df.shape",
      "metadata": {
        "colab": {
          "base_uri": "https://localhost:8080/"
        },
        "id": "JToc4fZQe4so",
        "outputId": "420dd855-3cc3-4b6a-a0fb-cc1eba7e5341",
        "trusted": true
      },
      "outputs": [
        {
          "execution_count": 4,
          "output_type": "execute_result",
          "data": {
            "text/plain": "(10000, 12)"
          },
          "metadata": {}
        }
      ],
      "execution_count": 4
    },
    {
      "cell_type": "markdown",
      "source": "- **All the relevant columns are present**\n====================================================================================================================================================\n----------------------------------------------------------------------------------------------------------------------------------------------------",
      "metadata": {}
    },
    {
      "cell_type": "code",
      "source": "df.columns",
      "metadata": {
        "colab": {
          "base_uri": "https://localhost:8080/"
        },
        "id": "-Ve1r5BCXQ95",
        "outputId": "1e258518-5a7c-4027-a98c-7473606e84c0",
        "trusted": true
      },
      "outputs": [
        {
          "execution_count": 5,
          "output_type": "execute_result",
          "data": {
            "text/plain": "Index(['DR_NO', 'Date Rptd', 'DATE OCC', 'TIME OCC', 'AREA NAME',\n       'Crm Cd Desc', 'Vict Age', 'Vict Sex', 'Vict Descent', 'Weapon Desc',\n       'Status Desc', 'LOCATION'],\n      dtype='object')"
          },
          "metadata": {}
        }
      ],
      "execution_count": 5
    },
    {
      "cell_type": "code",
      "source": "df.head()",
      "metadata": {
        "colab": {
          "base_uri": "https://localhost:8080/",
          "height": 362
        },
        "id": "ytgSiDCrVY-9",
        "outputId": "6091030e-692c-42d6-b9b4-5de7408c0788",
        "trusted": true
      },
      "outputs": [
        {
          "execution_count": 6,
          "output_type": "execute_result",
          "data": {
            "text/plain": "       DR_NO               Date Rptd                DATE OCC  TIME OCC  \\\n0   10304468  01/08/2020 12:00:00 AM  01/08/2020 12:00:00 AM      2230   \n1  190101086  01/02/2020 12:00:00 AM  01/01/2020 12:00:00 AM       330   \n2  200110444  04/14/2020 12:00:00 AM  02/13/2020 12:00:00 AM      1200   \n3  191501505  01/01/2020 12:00:00 AM  01/01/2020 12:00:00 AM      1730   \n4  191921269  01/01/2020 12:00:00 AM  01/01/2020 12:00:00 AM       415   \n\n     AREA NAME                                        Crm Cd Desc  Vict Age  \\\n0    Southwest                           BATTERY - SIMPLE ASSAULT        36   \n1      Central                           BATTERY - SIMPLE ASSAULT        25   \n2      Central          SEX OFFENDER REGISTRANT OUT OF COMPLIANCE         0   \n3  N Hollywood           VANDALISM - MISDEAMEANOR ($399 OR UNDER)        76   \n4      Mission  VANDALISM - FELONY ($400 & OVER, ALL CHURCH VA...        31   \n\n  Vict Sex Vict Descent                                     Weapon Desc  \\\n0        F            B  STRONG-ARM (HANDS, FIST, FEET OR BODILY FORCE)   \n1        M            H                     UNKNOWN WEAPON/OTHER WEAPON   \n2        X            X                                             NaN   \n3        F            W                                             NaN   \n4        X            X                                             NaN   \n\n    Status Desc                                  LOCATION  \n0   Adult Other   1100 W  39TH                         PL  \n1   Invest Cont    700 S  HILL                         ST  \n2  Adult Arrest    200 E  6TH                          ST  \n3   Invest Cont   5400    CORTEEN                      PL  \n4   Invest Cont  14400    TITUS                        ST  ",
            "text/html": "<div>\n<style scoped>\n    .dataframe tbody tr th:only-of-type {\n        vertical-align: middle;\n    }\n\n    .dataframe tbody tr th {\n        vertical-align: top;\n    }\n\n    .dataframe thead th {\n        text-align: right;\n    }\n</style>\n<table border=\"1\" class=\"dataframe\">\n  <thead>\n    <tr style=\"text-align: right;\">\n      <th></th>\n      <th>DR_NO</th>\n      <th>Date Rptd</th>\n      <th>DATE OCC</th>\n      <th>TIME OCC</th>\n      <th>AREA NAME</th>\n      <th>Crm Cd Desc</th>\n      <th>Vict Age</th>\n      <th>Vict Sex</th>\n      <th>Vict Descent</th>\n      <th>Weapon Desc</th>\n      <th>Status Desc</th>\n      <th>LOCATION</th>\n    </tr>\n  </thead>\n  <tbody>\n    <tr>\n      <th>0</th>\n      <td>10304468</td>\n      <td>01/08/2020 12:00:00 AM</td>\n      <td>01/08/2020 12:00:00 AM</td>\n      <td>2230</td>\n      <td>Southwest</td>\n      <td>BATTERY - SIMPLE ASSAULT</td>\n      <td>36</td>\n      <td>F</td>\n      <td>B</td>\n      <td>STRONG-ARM (HANDS, FIST, FEET OR BODILY FORCE)</td>\n      <td>Adult Other</td>\n      <td>1100 W  39TH                         PL</td>\n    </tr>\n    <tr>\n      <th>1</th>\n      <td>190101086</td>\n      <td>01/02/2020 12:00:00 AM</td>\n      <td>01/01/2020 12:00:00 AM</td>\n      <td>330</td>\n      <td>Central</td>\n      <td>BATTERY - SIMPLE ASSAULT</td>\n      <td>25</td>\n      <td>M</td>\n      <td>H</td>\n      <td>UNKNOWN WEAPON/OTHER WEAPON</td>\n      <td>Invest Cont</td>\n      <td>700 S  HILL                         ST</td>\n    </tr>\n    <tr>\n      <th>2</th>\n      <td>200110444</td>\n      <td>04/14/2020 12:00:00 AM</td>\n      <td>02/13/2020 12:00:00 AM</td>\n      <td>1200</td>\n      <td>Central</td>\n      <td>SEX OFFENDER REGISTRANT OUT OF COMPLIANCE</td>\n      <td>0</td>\n      <td>X</td>\n      <td>X</td>\n      <td>NaN</td>\n      <td>Adult Arrest</td>\n      <td>200 E  6TH                          ST</td>\n    </tr>\n    <tr>\n      <th>3</th>\n      <td>191501505</td>\n      <td>01/01/2020 12:00:00 AM</td>\n      <td>01/01/2020 12:00:00 AM</td>\n      <td>1730</td>\n      <td>N Hollywood</td>\n      <td>VANDALISM - MISDEAMEANOR ($399 OR UNDER)</td>\n      <td>76</td>\n      <td>F</td>\n      <td>W</td>\n      <td>NaN</td>\n      <td>Invest Cont</td>\n      <td>5400    CORTEEN                      PL</td>\n    </tr>\n    <tr>\n      <th>4</th>\n      <td>191921269</td>\n      <td>01/01/2020 12:00:00 AM</td>\n      <td>01/01/2020 12:00:00 AM</td>\n      <td>415</td>\n      <td>Mission</td>\n      <td>VANDALISM - FELONY ($400 &amp; OVER, ALL CHURCH VA...</td>\n      <td>31</td>\n      <td>X</td>\n      <td>X</td>\n      <td>NaN</td>\n      <td>Invest Cont</td>\n      <td>14400    TITUS                        ST</td>\n    </tr>\n  </tbody>\n</table>\n</div>"
          },
          "metadata": {}
        }
      ],
      "execution_count": 6
    },
    {
      "cell_type": "code",
      "source": "df.info()",
      "metadata": {
        "colab": {
          "base_uri": "https://localhost:8080/"
        },
        "id": "pilJ5j41Xmzi",
        "outputId": "80b06688-fde0-472e-a8c5-659f408f8b35",
        "trusted": true
      },
      "outputs": [
        {
          "name": "stdout",
          "text": "<class 'pandas.core.frame.DataFrame'>\nRangeIndex: 10000 entries, 0 to 9999\nData columns (total 12 columns):\n #   Column        Non-Null Count  Dtype \n---  ------        --------------  ----- \n 0   DR_NO         10000 non-null  int64 \n 1   Date Rptd     10000 non-null  object\n 2   DATE OCC      10000 non-null  object\n 3   TIME OCC      10000 non-null  int64 \n 4   AREA NAME     10000 non-null  object\n 5   Crm Cd Desc   10000 non-null  object\n 6   Vict Age      10000 non-null  int64 \n 7   Vict Sex      9151 non-null   object\n 8   Vict Descent  9151 non-null   object\n 9   Weapon Desc   2371 non-null   object\n 10  Status Desc   10000 non-null  object\n 11  LOCATION      10000 non-null  object\ndtypes: int64(3), object(9)\nmemory usage: 586.0+ KB\n",
          "output_type": "stream"
        }
      ],
      "execution_count": 7
    },
    {
      "cell_type": "markdown",
      "source": "- **Converting to appropriate data types**\n====================================================================================================================================================\n----------------------------------------------------------------------------------------------------------------------------------------------------",
      "metadata": {}
    },
    {
      "cell_type": "code",
      "source": "# Convert 'Date Rptd' column to datetime format\ndf['Date Rptd'] = pd.to_datetime(df['Date Rptd'])\ndf['DATE OCC'] = pd.to_datetime(df['DATE OCC'])",
      "metadata": {
        "colab": {
          "base_uri": "https://localhost:8080/"
        },
        "id": "ARESlRfXYIh_",
        "outputId": "98048f93-53c0-471c-aa98-68bff16b7356",
        "trusted": true
      },
      "outputs": [],
      "execution_count": 9
    },
    {
      "cell_type": "code",
      "source": "df.info()",
      "metadata": {
        "colab": {
          "base_uri": "https://localhost:8080/"
        },
        "id": "d3oWroArYeRA",
        "outputId": "6451a527-5365-4c63-c19e-ed1b0edb1a3d",
        "trusted": true
      },
      "outputs": [
        {
          "name": "stdout",
          "text": "<class 'pandas.core.frame.DataFrame'>\nRangeIndex: 10000 entries, 0 to 9999\nData columns (total 12 columns):\n #   Column        Non-Null Count  Dtype         \n---  ------        --------------  -----         \n 0   DR_NO         10000 non-null  int64         \n 1   Date Rptd     10000 non-null  datetime64[ns]\n 2   DATE OCC      10000 non-null  datetime64[ns]\n 3   TIME OCC      10000 non-null  int64         \n 4   AREA NAME     10000 non-null  object        \n 5   Crm Cd Desc   10000 non-null  object        \n 6   Vict Age      10000 non-null  int64         \n 7   Vict Sex      9151 non-null   object        \n 8   Vict Descent  9151 non-null   object        \n 9   Weapon Desc   2371 non-null   object        \n 10  Status Desc   10000 non-null  object        \n 11  LOCATION      10000 non-null  object        \ndtypes: datetime64[ns](2), int64(3), object(7)\nmemory usage: 664.1+ KB\n",
          "output_type": "stream"
        }
      ],
      "execution_count": 10
    },
    {
      "cell_type": "markdown",
      "source": "- **Q1) Which hour has the highest frequency of crimes? Store as an integer variable called peak_crime_hour.**\n====================================================================================================================================================\n----------------------------------------------------------------------------------------------------------------------------------------------------",
      "metadata": {
        "id": "wvapNM55eN6N"
      }
    },
    {
      "cell_type": "code",
      "source": "Peak_Crime_Hour = df['TIME OCC'].value_counts().idxmax()\nPeak_Crime_Hour",
      "metadata": {
        "colab": {
          "base_uri": "https://localhost:8080/"
        },
        "id": "XmNNwRZVYfnI",
        "outputId": "39405c4c-fa1a-4740-969a-1dfeab5a233f",
        "trusted": true
      },
      "outputs": [
        {
          "execution_count": 11,
          "output_type": "execute_result",
          "data": {
            "text/plain": "1800"
          },
          "metadata": {}
        }
      ],
      "execution_count": 11
    },
    {
      "cell_type": "markdown",
      "source": "\n1800 is the most repeated value in the Time column, therefore it is the time during which most of the crime is committed.\n---\n------------------------------------------------------------------------------------------------------------------------------------------------------\n\n",
      "metadata": {
        "id": "lQno2w55eSQJ"
      }
    },
    {
      "cell_type": "code",
      "source": "df['TIME OCC'] = df['TIME OCC'].astype(str).str.zfill(4)\ndf['TIME OCC'] = pd.to_datetime(df['TIME OCC'], format='%H%M').dt.time",
      "metadata": {
        "id": "X1Z38KtYZ2Qk",
        "trusted": true
      },
      "outputs": [],
      "execution_count": 12
    },
    {
      "cell_type": "code",
      "source": "df.head()",
      "metadata": {
        "colab": {
          "base_uri": "https://localhost:8080/",
          "height": 345
        },
        "id": "-QqjM6LJa7lN",
        "outputId": "60a2ff58-a393-41e7-a37b-ce4dc0241437",
        "trusted": true
      },
      "outputs": [
        {
          "execution_count": 13,
          "output_type": "execute_result",
          "data": {
            "text/plain": "       DR_NO  Date Rptd   DATE OCC  TIME OCC    AREA NAME  \\\n0   10304468 2020-01-08 2020-01-08  22:30:00    Southwest   \n1  190101086 2020-01-02 2020-01-01  03:30:00      Central   \n2  200110444 2020-04-14 2020-02-13  12:00:00      Central   \n3  191501505 2020-01-01 2020-01-01  17:30:00  N Hollywood   \n4  191921269 2020-01-01 2020-01-01  04:15:00      Mission   \n\n                                         Crm Cd Desc  Vict Age Vict Sex  \\\n0                           BATTERY - SIMPLE ASSAULT        36        F   \n1                           BATTERY - SIMPLE ASSAULT        25        M   \n2          SEX OFFENDER REGISTRANT OUT OF COMPLIANCE         0        X   \n3           VANDALISM - MISDEAMEANOR ($399 OR UNDER)        76        F   \n4  VANDALISM - FELONY ($400 & OVER, ALL CHURCH VA...        31        X   \n\n  Vict Descent                                     Weapon Desc   Status Desc  \\\n0            B  STRONG-ARM (HANDS, FIST, FEET OR BODILY FORCE)   Adult Other   \n1            H                     UNKNOWN WEAPON/OTHER WEAPON   Invest Cont   \n2            X                                             NaN  Adult Arrest   \n3            W                                             NaN   Invest Cont   \n4            X                                             NaN   Invest Cont   \n\n                                   LOCATION  \n0   1100 W  39TH                         PL  \n1    700 S  HILL                         ST  \n2    200 E  6TH                          ST  \n3   5400    CORTEEN                      PL  \n4  14400    TITUS                        ST  ",
            "text/html": "<div>\n<style scoped>\n    .dataframe tbody tr th:only-of-type {\n        vertical-align: middle;\n    }\n\n    .dataframe tbody tr th {\n        vertical-align: top;\n    }\n\n    .dataframe thead th {\n        text-align: right;\n    }\n</style>\n<table border=\"1\" class=\"dataframe\">\n  <thead>\n    <tr style=\"text-align: right;\">\n      <th></th>\n      <th>DR_NO</th>\n      <th>Date Rptd</th>\n      <th>DATE OCC</th>\n      <th>TIME OCC</th>\n      <th>AREA NAME</th>\n      <th>Crm Cd Desc</th>\n      <th>Vict Age</th>\n      <th>Vict Sex</th>\n      <th>Vict Descent</th>\n      <th>Weapon Desc</th>\n      <th>Status Desc</th>\n      <th>LOCATION</th>\n    </tr>\n  </thead>\n  <tbody>\n    <tr>\n      <th>0</th>\n      <td>10304468</td>\n      <td>2020-01-08</td>\n      <td>2020-01-08</td>\n      <td>22:30:00</td>\n      <td>Southwest</td>\n      <td>BATTERY - SIMPLE ASSAULT</td>\n      <td>36</td>\n      <td>F</td>\n      <td>B</td>\n      <td>STRONG-ARM (HANDS, FIST, FEET OR BODILY FORCE)</td>\n      <td>Adult Other</td>\n      <td>1100 W  39TH                         PL</td>\n    </tr>\n    <tr>\n      <th>1</th>\n      <td>190101086</td>\n      <td>2020-01-02</td>\n      <td>2020-01-01</td>\n      <td>03:30:00</td>\n      <td>Central</td>\n      <td>BATTERY - SIMPLE ASSAULT</td>\n      <td>25</td>\n      <td>M</td>\n      <td>H</td>\n      <td>UNKNOWN WEAPON/OTHER WEAPON</td>\n      <td>Invest Cont</td>\n      <td>700 S  HILL                         ST</td>\n    </tr>\n    <tr>\n      <th>2</th>\n      <td>200110444</td>\n      <td>2020-04-14</td>\n      <td>2020-02-13</td>\n      <td>12:00:00</td>\n      <td>Central</td>\n      <td>SEX OFFENDER REGISTRANT OUT OF COMPLIANCE</td>\n      <td>0</td>\n      <td>X</td>\n      <td>X</td>\n      <td>NaN</td>\n      <td>Adult Arrest</td>\n      <td>200 E  6TH                          ST</td>\n    </tr>\n    <tr>\n      <th>3</th>\n      <td>191501505</td>\n      <td>2020-01-01</td>\n      <td>2020-01-01</td>\n      <td>17:30:00</td>\n      <td>N Hollywood</td>\n      <td>VANDALISM - MISDEAMEANOR ($399 OR UNDER)</td>\n      <td>76</td>\n      <td>F</td>\n      <td>W</td>\n      <td>NaN</td>\n      <td>Invest Cont</td>\n      <td>5400    CORTEEN                      PL</td>\n    </tr>\n    <tr>\n      <th>4</th>\n      <td>191921269</td>\n      <td>2020-01-01</td>\n      <td>2020-01-01</td>\n      <td>04:15:00</td>\n      <td>Mission</td>\n      <td>VANDALISM - FELONY ($400 &amp; OVER, ALL CHURCH VA...</td>\n      <td>31</td>\n      <td>X</td>\n      <td>X</td>\n      <td>NaN</td>\n      <td>Invest Cont</td>\n      <td>14400    TITUS                        ST</td>\n    </tr>\n  </tbody>\n</table>\n</div>"
          },
          "metadata": {}
        }
      ],
      "execution_count": 13
    },
    {
      "cell_type": "markdown",
      "source": "- **Filtered DataFrame according to the time (Night).**\n====================================================================================================================================================\n----------------------------------------------------------------------------------------------------------------------------------------------------",
      "metadata": {
        "id": "fzIOpU85dwIw"
      }
    },
    {
      "cell_type": "code",
      "source": "from datetime import datetime, time\n\nearly_morning_crimes = df[(df['TIME OCC'] >= time(22, 0)) | (df['TIME OCC'] < time(4, 0))]\nearly_morning_crimes",
      "metadata": {
        "colab": {
          "base_uri": "https://localhost:8080/",
          "height": 684
        },
        "id": "AcHczYXPa9ls",
        "outputId": "c15dafb7-f683-4b88-f256-ad89fb333f0c",
        "trusted": true
      },
      "outputs": [
        {
          "execution_count": 14,
          "output_type": "execute_result",
          "data": {
            "text/plain": "          DR_NO  Date Rptd   DATE OCC  TIME OCC    AREA NAME  \\\n0      10304468 2020-01-08 2020-01-08  22:30:00    Southwest   \n1     190101086 2020-01-02 2020-01-01  03:30:00      Central   \n5     200100501 2020-01-02 2020-01-01  00:30:00      Central   \n7     200100504 2020-01-04 2020-01-04  00:40:00      Central   \n8     200100507 2020-01-04 2020-01-04  02:00:00      Central   \n...         ...        ...        ...       ...          ...   \n9961  201226783 2020-12-19 2020-12-18  22:00:00  77th Street   \n9970  200806304 2020-02-21 2020-02-20  22:00:00      West LA   \n9973  200517587 2020-12-07 2020-12-06  02:30:00       Harbor   \n9991  200516796 2020-11-15 2020-11-15  00:01:00       Harbor   \n9992  201012537 2020-08-29 2020-08-29  00:30:00  West Valley   \n\n                                            Crm Cd Desc  Vict Age Vict Sex  \\\n0                              BATTERY - SIMPLE ASSAULT        36        F   \n1                              BATTERY - SIMPLE ASSAULT        25        M   \n5                                        RAPE, FORCIBLE        25        F   \n7                             OTHER MISCELLANEOUS CRIME         0        X   \n8     THEFT-GRAND ($950.01 & OVER)EXCPT,GUNS,FOWL,LI...        23        M   \n...                                                 ...       ...      ...   \n9961  THEFT FROM MOTOR VEHICLE - GRAND ($950.01 AND ...        48        M   \n9970  THEFT FROM MOTOR VEHICLE - GRAND ($950.01 AND ...        50        M   \n9973  THEFT FROM MOTOR VEHICLE - GRAND ($950.01 AND ...        46        F   \n9991  VANDALISM - FELONY ($400 & OVER, ALL CHURCH VA...        57        F   \n9992  VANDALISM - FELONY ($400 & OVER, ALL CHURCH VA...        53        M   \n\n     Vict Descent                                     Weapon Desc  \\\n0               B  STRONG-ARM (HANDS, FIST, FEET OR BODILY FORCE)   \n1               H                     UNKNOWN WEAPON/OTHER WEAPON   \n5               H                     UNKNOWN WEAPON/OTHER WEAPON   \n7               X                                             NaN   \n8               B                                             NaN   \n...           ...                                             ...   \n9961            H                                             NaN   \n9970            W                                             NaN   \n9973            W                                             NaN   \n9991            W                                             NaN   \n9992            H  STRONG-ARM (HANDS, FIST, FEET OR BODILY FORCE)   \n\n      Status Desc                                 LOCATION  \n0     Adult Other  1100 W  39TH                         PL  \n1     Invest Cont   700 S  HILL                         ST  \n5     Invest Cont                          700 S  BROADWAY  \n7     Invest Cont   200 E  6TH                          ST  \n8     Invest Cont   700    BERNARD                      ST  \n...           ...                                      ...  \n9961  Invest Cont  7900 S  SAN PEDRO                    ST  \n9970  Invest Cont  1700 S  WOOSTER                      ST  \n9973  Invest Cont                                  PACIFIC  \n9991  Invest Cont   800 W  3RD                          ST  \n9992  Invest Cont  7500    YARMOUTH                     AV  \n\n[2052 rows x 12 columns]",
            "text/html": "<div>\n<style scoped>\n    .dataframe tbody tr th:only-of-type {\n        vertical-align: middle;\n    }\n\n    .dataframe tbody tr th {\n        vertical-align: top;\n    }\n\n    .dataframe thead th {\n        text-align: right;\n    }\n</style>\n<table border=\"1\" class=\"dataframe\">\n  <thead>\n    <tr style=\"text-align: right;\">\n      <th></th>\n      <th>DR_NO</th>\n      <th>Date Rptd</th>\n      <th>DATE OCC</th>\n      <th>TIME OCC</th>\n      <th>AREA NAME</th>\n      <th>Crm Cd Desc</th>\n      <th>Vict Age</th>\n      <th>Vict Sex</th>\n      <th>Vict Descent</th>\n      <th>Weapon Desc</th>\n      <th>Status Desc</th>\n      <th>LOCATION</th>\n    </tr>\n  </thead>\n  <tbody>\n    <tr>\n      <th>0</th>\n      <td>10304468</td>\n      <td>2020-01-08</td>\n      <td>2020-01-08</td>\n      <td>22:30:00</td>\n      <td>Southwest</td>\n      <td>BATTERY - SIMPLE ASSAULT</td>\n      <td>36</td>\n      <td>F</td>\n      <td>B</td>\n      <td>STRONG-ARM (HANDS, FIST, FEET OR BODILY FORCE)</td>\n      <td>Adult Other</td>\n      <td>1100 W  39TH                         PL</td>\n    </tr>\n    <tr>\n      <th>1</th>\n      <td>190101086</td>\n      <td>2020-01-02</td>\n      <td>2020-01-01</td>\n      <td>03:30:00</td>\n      <td>Central</td>\n      <td>BATTERY - SIMPLE ASSAULT</td>\n      <td>25</td>\n      <td>M</td>\n      <td>H</td>\n      <td>UNKNOWN WEAPON/OTHER WEAPON</td>\n      <td>Invest Cont</td>\n      <td>700 S  HILL                         ST</td>\n    </tr>\n    <tr>\n      <th>5</th>\n      <td>200100501</td>\n      <td>2020-01-02</td>\n      <td>2020-01-01</td>\n      <td>00:30:00</td>\n      <td>Central</td>\n      <td>RAPE, FORCIBLE</td>\n      <td>25</td>\n      <td>F</td>\n      <td>H</td>\n      <td>UNKNOWN WEAPON/OTHER WEAPON</td>\n      <td>Invest Cont</td>\n      <td>700 S  BROADWAY</td>\n    </tr>\n    <tr>\n      <th>7</th>\n      <td>200100504</td>\n      <td>2020-01-04</td>\n      <td>2020-01-04</td>\n      <td>00:40:00</td>\n      <td>Central</td>\n      <td>OTHER MISCELLANEOUS CRIME</td>\n      <td>0</td>\n      <td>X</td>\n      <td>X</td>\n      <td>NaN</td>\n      <td>Invest Cont</td>\n      <td>200 E  6TH                          ST</td>\n    </tr>\n    <tr>\n      <th>8</th>\n      <td>200100507</td>\n      <td>2020-01-04</td>\n      <td>2020-01-04</td>\n      <td>02:00:00</td>\n      <td>Central</td>\n      <td>THEFT-GRAND ($950.01 &amp; OVER)EXCPT,GUNS,FOWL,LI...</td>\n      <td>23</td>\n      <td>M</td>\n      <td>B</td>\n      <td>NaN</td>\n      <td>Invest Cont</td>\n      <td>700    BERNARD                      ST</td>\n    </tr>\n    <tr>\n      <th>...</th>\n      <td>...</td>\n      <td>...</td>\n      <td>...</td>\n      <td>...</td>\n      <td>...</td>\n      <td>...</td>\n      <td>...</td>\n      <td>...</td>\n      <td>...</td>\n      <td>...</td>\n      <td>...</td>\n      <td>...</td>\n    </tr>\n    <tr>\n      <th>9961</th>\n      <td>201226783</td>\n      <td>2020-12-19</td>\n      <td>2020-12-18</td>\n      <td>22:00:00</td>\n      <td>77th Street</td>\n      <td>THEFT FROM MOTOR VEHICLE - GRAND ($950.01 AND ...</td>\n      <td>48</td>\n      <td>M</td>\n      <td>H</td>\n      <td>NaN</td>\n      <td>Invest Cont</td>\n      <td>7900 S  SAN PEDRO                    ST</td>\n    </tr>\n    <tr>\n      <th>9970</th>\n      <td>200806304</td>\n      <td>2020-02-21</td>\n      <td>2020-02-20</td>\n      <td>22:00:00</td>\n      <td>West LA</td>\n      <td>THEFT FROM MOTOR VEHICLE - GRAND ($950.01 AND ...</td>\n      <td>50</td>\n      <td>M</td>\n      <td>W</td>\n      <td>NaN</td>\n      <td>Invest Cont</td>\n      <td>1700 S  WOOSTER                      ST</td>\n    </tr>\n    <tr>\n      <th>9973</th>\n      <td>200517587</td>\n      <td>2020-12-07</td>\n      <td>2020-12-06</td>\n      <td>02:30:00</td>\n      <td>Harbor</td>\n      <td>THEFT FROM MOTOR VEHICLE - GRAND ($950.01 AND ...</td>\n      <td>46</td>\n      <td>F</td>\n      <td>W</td>\n      <td>NaN</td>\n      <td>Invest Cont</td>\n      <td>PACIFIC</td>\n    </tr>\n    <tr>\n      <th>9991</th>\n      <td>200516796</td>\n      <td>2020-11-15</td>\n      <td>2020-11-15</td>\n      <td>00:01:00</td>\n      <td>Harbor</td>\n      <td>VANDALISM - FELONY ($400 &amp; OVER, ALL CHURCH VA...</td>\n      <td>57</td>\n      <td>F</td>\n      <td>W</td>\n      <td>NaN</td>\n      <td>Invest Cont</td>\n      <td>800 W  3RD                          ST</td>\n    </tr>\n    <tr>\n      <th>9992</th>\n      <td>201012537</td>\n      <td>2020-08-29</td>\n      <td>2020-08-29</td>\n      <td>00:30:00</td>\n      <td>West Valley</td>\n      <td>VANDALISM - FELONY ($400 &amp; OVER, ALL CHURCH VA...</td>\n      <td>53</td>\n      <td>M</td>\n      <td>H</td>\n      <td>STRONG-ARM (HANDS, FIST, FEET OR BODILY FORCE)</td>\n      <td>Invest Cont</td>\n      <td>7500    YARMOUTH                     AV</td>\n    </tr>\n  </tbody>\n</table>\n<p>2052 rows × 12 columns</p>\n</div>"
          },
          "metadata": {}
        }
      ],
      "execution_count": 14
    },
    {
      "cell_type": "markdown",
      "source": "- **Q2) Selecting the top value for location which would give us the area with the largest frequency of night crimes**\n====================================================================================================================================================\n----------------------------------------------------------------------------------------------------------------------------------------------------",
      "metadata": {
        "id": "53ICg5hqd4F4"
      }
    },
    {
      "cell_type": "code",
      "source": "peak_night_crime_location = early_morning_crimes['LOCATION'].value_counts().idxmax()\npeak_night_crime_location",
      "metadata": {
        "colab": {
          "base_uri": "https://localhost:8080/",
          "height": 35
        },
        "id": "SSIup26Cb0_P",
        "outputId": "f0ffbaf9-e6c2-46b0-a18d-a88637d09315",
        "trusted": true
      },
      "outputs": [
        {
          "execution_count": 15,
          "output_type": "execute_result",
          "data": {
            "text/plain": "'6TH'"
          },
          "metadata": {}
        }
      ],
      "execution_count": 15
    },
    {
      "cell_type": "markdown",
      "source": "- **Q3) Which area has the largest frequency of night crimes (crimes committed between 10pm and 3:59am)? Save as a string variable called peak_night_crime_location.Identify the number of crimes committed against victims of different age groups. Save as a pandas Series called victim_ages, with age group labels \"0-17\", \"18-25\", \"26-34\", \"35-44\", \"45-54\", \"55-64\", and \"65+\" as the index and the frequency of crimes as the values.**\n----------------------------------------------------------------------------------------------------------------------------------------------------",
      "metadata": {
        "id": "sWpg5LBeeenu"
      }
    },
    {
      "cell_type": "code",
      "source": "age_groups = ['0-17', '18-25', '26-34', '35-44', '45-54', '55-64', '65+']\nvictim_ages = pd.Series([0] * len(age_groups), index=age_groups)\n\nfor age in df['Vict Age']:\n  if age < 18:\n    victim_ages['0-17'] += 1\n  elif age < 26:\n    victim_ages['18-25'] += 1\n  elif age < 35:\n    victim_ages['26-34'] += 1\n  elif age < 45:\n    victim_ages['35-44'] += 1\n  elif age < 55:\n    victim_ages['45-54'] += 1\n  elif age < 65:\n    victim_ages['55-64'] += 1\n  else:\n    victim_ages['65+'] += 1\n\nvictim_ages\n",
      "metadata": {
        "colab": {
          "base_uri": "https://localhost:8080/"
        },
        "id": "CV2pB_n8eiGW",
        "outputId": "9aa7a3f3-cd08-4f6d-d82f-f48b71ab36b4",
        "trusted": true
      },
      "outputs": [
        {
          "execution_count": 16,
          "output_type": "execute_result",
          "data": {
            "text/plain": "0-17     2089\n18-25    1232\n26-34    2004\n35-44    1730\n45-54    1276\n55-64    1043\n65+       626\ndtype: int64"
          },
          "metadata": {}
        }
      ],
      "execution_count": 16
    },
    {
      "cell_type": "markdown",
      "source": "- **Visualizing through bar chart**\n====================================================================================================================================================\n----------------------------------------------------------------------------------------------------------------------------------------------------",
      "metadata": {}
    },
    {
      "cell_type": "code",
      "source": "labels = victim_ages.index.to_list()\nvalues = victim_ages.values.tolist()\n\nplt.bar(labels, values)\n\nplt.title(\"Number of Crimes by Victim Age Group\")\nplt.xlabel(\"Age Group\")\nplt.ylabel(\"Number of Crimes\")\n\nplt.xticks(rotation=45)\n\nplt.show()\n",
      "metadata": {
        "colab": {
          "base_uri": "https://localhost:8080/",
          "height": 496
        },
        "id": "etEOleVUeydM",
        "outputId": "736379a5-c30f-4e50-e4e0-3df6097614e7",
        "trusted": true
      },
      "outputs": [
        {
          "output_type": "display_data",
          "data": {
            "text/plain": "<Figure size 640x480 with 1 Axes>",
            "image/png": "[encoded data removed]"
          },
          "metadata": {}
        }
      ],
      "execution_count": 17
    },
    {
      "cell_type": "markdown",
      "source": "====================================================================================================================================================\n----------------------------------------------------------------------------------------------------------------------------------------------------",
      "metadata": {}
    },
    {
      "cell_type": "code",
      "source": "",
      "metadata": {
        "trusted": true
      },
      "outputs": [],
      "execution_count": null
    }
  ]
}