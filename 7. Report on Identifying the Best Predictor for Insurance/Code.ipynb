{
 "cells": [
  {
   "cell_type": "code",
   "execution_count": 1,
   "id": "0849689e-66f1-494a-9c80-3a144fd224a6",
   "metadata": {},
   "outputs": [],
   "source": [
    "import pandas as pd\n",
    "import numpy as n\n",
    "from statsmodels.formula.api import logit"
   ]
  },
  {
   "cell_type": "code",
   "execution_count": 2,
   "id": "a7f93412-96cf-4373-93b5-5de2d7e4a350",
   "metadata": {},
   "outputs": [],
   "source": [
    "data = pd.read_csv(\"car_insurance.csv)"
   ]
  },
  {
   "cell_type": "code",
   "execution_count": 3,
   "id": "fe61333c-89cc-4ddd-8665-f4582210c8a3",
   "metadata": {},
   "outputs": [],
   "source": [
    "best_accuracy = 0\n",
    "best_feature = None"
   ]
  },
  {
   "cell_type": "code",
   "execution_count": 4,
   "id": "c3b3a3bd-5b12-4d1f-814f-0e8a6e803118",
   "metadata": {},
   "outputs": [
    {
     "name": "stdout",
     "output_type": "stream",
     "text": [
      "Optimization terminated successfully.\n",
      "         Current function value: 0.621660\n",
      "         Iterations 4\n",
      "Optimization terminated successfully.\n",
      "         Current function value: 0.511794\n",
      "         Iterations 6\n",
      "Optimization terminated successfully.\n",
      "         Current function value: 0.615951\n",
      "         Iterations 5\n",
      "Optimization terminated successfully.\n",
      "         Current function value: 0.467092\n",
      "         Iterations 8\n",
      "Optimization terminated successfully.\n",
      "         Current function value: 0.603742\n",
      "         Iterations 5\n",
      "Optimization terminated successfully.\n",
      "         Current function value: 0.531499\n",
      "         Iterations 6\n",
      "Optimization terminated successfully.\n",
      "         Current function value: 0.567469\n",
      "         Iterations 6\n",
      "Optimization terminated successfully.\n",
      "         Current function value: 0.552412\n",
      "         Iterations 5\n",
      "Optimization terminated successfully.\n",
      "         Current function value: 0.572668\n",
      "         Iterations 6\n",
      "Optimization terminated successfully.\n",
      "         Current function value: 0.586659\n",
      "         Iterations 5\n",
      "Optimization terminated successfully.\n",
      "         Current function value: 0.595431\n",
      "         Iterations 5\n",
      "Optimization terminated successfully.\n",
      "         Current function value: 0.617345\n",
      "         Iterations 5\n",
      "Optimization terminated successfully.\n",
      "         Current function value: 0.601906\n",
      "         Iterations 5\n",
      "Optimization terminated successfully.\n",
      "         Current function value: 0.621700\n",
      "         Iterations 5\n",
      "Optimization terminated successfully.\n",
      "         Current function value: 0.558922\n",
      "         Iterations 7\n",
      "Optimization terminated successfully.\n",
      "         Current function value: 0.598699\n",
      "         Iterations 6\n",
      "Optimization terminated successfully.\n",
      "         Current function value: 0.549220\n",
      "         Iterations 7\n"
     ]
    }
   ],
   "source": [
    "for feature in data.columns[:-1]: \n",
    "    formula = f\"outcome ~ {feature}\"\n",
    "    model = logit(formula=formula, data=data).fit()\n",
    "    predictions = (model.predict(data[feature]) > 0.5).astype(int)\n",
    "    accuracy = np.mean(predictions == data[\"outcome\"])\n",
    "    if accuracy > best_accuracy:\n",
    "        best_accuracy = accuracy\n",
    "        best_feature = feature"
   ]
  },
  {
   "cell_type": "code",
   "execution_count": 5,
   "id": "db130a58-5fcf-4fdb-99ea-73b88e814184",
   "metadata": {},
   "outputs": [],
   "source": [
    "best_feature_df = pd.DataFrame({\"best_feature\": [best_feature], \"best_accuracy\": [best_accuracy]})"
   ]
  },
  {
   "cell_type": "code",
   "execution_count": 6,
   "id": "c8c95ffa-5574-4af1-b9b0-86631a5e80d2",
   "metadata": {},
   "outputs": [
    {
     "name": "stdout",
     "output_type": "stream",
     "text": [
      "         best_feature  best_accuracy\n",
      "0  driving_experience         0.7771\n"
     ]
    }
   ],
   "source": [
    "print(best_feature_df)"
   ]
  }
 ],
 "metadata": {
  "kernelspec": {
   "display_name": "Python 3 (ipykernel)",
   "language": "python",
   "name": "python3"
  },
  "language_info": {
   "codemirror_mode": {
    "name": "ipython",
    "version": 3
   },
   "file_extension": ".py",
   "mimetype": "text/x-python",
   "name": "python",
   "nbconvert_exporter": "python",
   "pygments_lexer": "ipython3",
   "version": "3.11.5"
  }
 },
 "nbformat": 4,
 "nbformat_minor": 5
}
