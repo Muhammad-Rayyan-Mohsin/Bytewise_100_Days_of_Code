{
 "cells": [
  {
   "cell_type": "code",
   "execution_count": 71,
   "id": "718c2df0-5c5f-4b72-a0db-b2418bb0477f",
   "metadata": {},
   "outputs": [],
   "source": [
    "import pandas as pd\n",
    "import numpy as np"
   ]
  },
  {
   "cell_type": "markdown",
   "id": "5d766ca5-94f1-43a9-860f-81f1a3262906",
   "metadata": {},
   "source": [
    "A) First NumPy Array"
   ]
  },
  {
   "cell_type": "code",
   "execution_count": 72,
   "id": "9036189b-92e2-4848-9d0b-86ee2c5852b7",
   "metadata": {},
   "outputs": [
    {
     "name": "stdout",
     "output_type": "stream",
     "text": [
      "[180 185 190 195 200 170 210 175 165 190]\n",
      "\n",
      "<class 'numpy.ndarray'>\n"
     ]
    }
   ],
   "source": [
    "\n",
    "baseball = [180, 185, 190, 195, 200, 170, 210, 175, 165, 190]\n",
    "\n",
    "np_baseball = np.array(baseball)\n",
    "\n",
    "print(np_baseball)\n",
    "print()\n",
    "print(type(np_baseball))"
   ]
  },
  {
   "cell_type": "markdown",
   "id": "46d160f1-06bb-412f-a680-aecef6cabda9",
   "metadata": {},
   "source": [
    "B) Baseball players' height"
   ]
  },
  {
   "cell_type": "code",
   "execution_count": 67,
   "id": "0ccb8fff-ae90-48ae-ac23-6628579e0c2a",
   "metadata": {},
   "outputs": [
    {
     "name": "stdout",
     "output_type": "stream",
     "text": [
      "[63 70 61 68 72 68 69 70 64 68]\n",
      "<class 'numpy.ndarray'>\n",
      "[1.6002 1.778  1.5494 1.7272 1.8288 1.7272 1.7526 1.778  1.6256 1.7272]\n"
     ]
    }
   ],
   "source": [
    "#Sample list\n",
    "height_in = [63, 70, 61, 68, 72, 68, 69, 70, 64, 68]\n",
    "\n",
    "np_height_in = np.array(height_in)\n",
    "\n",
    "print(np_height_in)\n",
    "\n",
    "#Ensuring the type\n",
    "print(type(np_height_in))\n",
    "\n",
    "#Converting the heights in inches to meters\n",
    "np_height_m = np_height_in*0.0254\n",
    "\n",
    "#Printing result array\n",
    "print(np_height_m)"
   ]
  },
  {
   "cell_type": "markdown",
   "id": "eab3db29-7152-49e0-bf15-183a18861689",
   "metadata": {},
   "source": [
    "-------------------------------------------------------------------------------------------------------------------\n",
    "C) Baseball player's BMI"
   ]
  },
  {
   "cell_type": "code",
   "execution_count": 68,
   "id": "0355b64b-7af9-4a31-9355-706e559f7eae",
   "metadata": {},
   "outputs": [
    {
     "name": "stdout",
     "output_type": "stream",
     "text": [
      "Weight in pounds = [120 160 170 180 110 100 110 120 130 140]\n",
      "\n",
      "Height in metres = [1.6002 1.778  1.5494 1.7272 1.8288 1.7272 1.7526 1.778  1.6256 1.7272]\n",
      "\n",
      "Weight in kg = [54.43104 72.57472 77.11064 81.64656 49.89512 45.3592  49.89512 54.43104\n",
      " 58.96696 63.50288]\n",
      "\n",
      "BMI = [21.25681047 22.9573553  32.12086295 27.36860318 14.91851672 15.20477954\n",
      " 16.2439804  17.21801648 22.31420185 21.28669136]\n"
     ]
    }
   ],
   "source": [
    "#Sample weight list\n",
    "weight_lbs = [120, 160, 170, 180, 110, 100, 110, 120, 130, 140]\n",
    "weight_lbs = np.array(weight_lbs)\n",
    "\n",
    "print(\"Weight in pounds =\", weight_lbs)\n",
    "print()\n",
    "print(\"Height in metres =\", np_height_m)\n",
    "\n",
    "np_weight_kg = weight_lbs*0.453592\n",
    "print()\n",
    "print(\"Weight in kg =\", np_weight_kg)\n",
    "\n",
    "bmi = np_weight_kg / (np_height_m ** 2)\n",
    "print()\n",
    "print(\"BMI =\", bmi)\n",
    "\n"
   ]
  },
  {
   "cell_type": "markdown",
   "id": "03267012-9cb5-4b00-b7df-f527f50798cf",
   "metadata": {},
   "source": [
    "-------------------------------------------------------------------------------------------------------------------\n",
    "D) Lightweight baseball players"
   ]
  },
  {
   "cell_type": "code",
   "execution_count": 69,
   "id": "2e64fc27-3e25-4510-ab5b-f44ddb3fce45",
   "metadata": {},
   "outputs": [
    {
     "name": "stdout",
     "output_type": "stream",
     "text": [
      "[False False False False  True  True  True  True False False]\n",
      "\n",
      "True\n"
     ]
    }
   ],
   "source": [
    "light = bmi < 21\n",
    "print(light)\n",
    "print()\n",
    "print(light[4])"
   ]
  },
  {
   "cell_type": "markdown",
   "id": "582957ee-3b65-47c7-99fd-1f6772a72a54",
   "metadata": {},
   "source": [
    "-------------------------------------------------------------------------------------------------------------------\n",
    "E) NumPy Side Effects"
   ]
  },
  {
   "cell_type": "markdown",
   "id": "5523a12f-315b-40ef-9ec6-8dac6dc8e37b",
   "metadata": {},
   "source": [
    "np.array([True, 1, 2]) + np.array([3, 4, False])"
   ]
  },
  {
   "cell_type": "markdown",
   "id": "d97efbc7-1aa4-4197-acb8-d84fc4c3e675",
   "metadata": {},
   "source": [
    "This would perform concatenation on the two arrays so i believe it would look something like this:\n",
    "[True, 1, 2, 3, 4, False]"
   ]
  },
  {
   "cell_type": "markdown",
   "id": "d3ccb08e-6c6b-4978-9f81-1d6d5d25a796",
   "metadata": {},
   "source": [
    "-------------------------------------------------------------------------------------------------------------------\n",
    "F) Blend it all together"
   ]
  },
  {
   "cell_type": "code",
   "execution_count": 70,
   "id": "470a3292-fdbe-4a28-bed6-f69494000e21",
   "metadata": {},
   "outputs": [
    {
     "name": "stdout",
     "output_type": "stream",
     "text": [
      "Median height of goalkeepers: 191.0\n",
      "Median height of other players: 184.0\n"
     ]
    }
   ],
   "source": [
    "positions = ['GK', 'M', 'A', 'D']\n",
    "heights = [191, 184, 185, 180]\n",
    "\n",
    "np_positions = np.array(positions)\n",
    "np_heights = np.array(heights)\n",
    "\n",
    "gk_heights = np_heights[np_positions == 'GK']\n",
    "\n",
    "other_heights = np_heights[np_positions != 'GK']\n",
    "\n",
    "print(\"Median height of goalkeepers:\", np.median(gk_heights))\n",
    "\n",
    "print(\"Median height of other players:\", np.median(other_heights))\n"
   ]
  }
 ],
 "metadata": {
  "kernelspec": {
   "display_name": "Python 3 (ipykernel)",
   "language": "python",
   "name": "python3"
  },
  "language_info": {
   "codemirror_mode": {
    "name": "ipython",
    "version": 3
   },
   "file_extension": ".py",
   "mimetype": "text/x-python",
   "name": "python",
   "nbconvert_exporter": "python",
   "pygments_lexer": "ipython3",
   "version": "3.11.5"
  }
 },
 "nbformat": 4,
 "nbformat_minor": 5
}
